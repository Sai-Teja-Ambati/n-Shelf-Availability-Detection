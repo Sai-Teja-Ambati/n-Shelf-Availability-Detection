{
  "cells": [
    {
      "cell_type": "code",
      "execution_count": null,
      "metadata": {
        "id": "SlLPPiPR2tLA"
      },
      "outputs": [],
      "source": [
        "!git clone https://github.com/ultralytics/yolov5"
      ]
    },
    {
      "cell_type": "code",
      "execution_count": null,
      "metadata": {
        "id": "pxsuq2By-Nzp"
      },
      "outputs": [],
      "source": [
        "%cd yolov5\n",
        "!pip install -r requirements.txt\n",
        "!pip install ultralytics -q\n",
        "!pip install pyyaml -q"
      ]
    },
    {
      "cell_type": "code",
      "execution_count": 5,
      "metadata": {
        "id": "BtGllO_xvIDN"
      },
      "outputs": [],
      "source": [
        "from ultralytics import YOLO\n",
        "import yaml"
      ]
    },
    {
      "cell_type": "code",
      "execution_count": null,
      "metadata": {
        "id": "bYCM2qUF4RA_"
      },
      "outputs": [],
      "source": [
        "!pip install roboflow"
      ]
    },
    {
      "cell_type": "code",
      "execution_count": null,
      "metadata": {
        "id": "zed3vjWB-Xgv"
      },
      "outputs": [],
      "source": [
        "from roboflow import Roboflow\n",
        "%cd yolov5\n",
        "rf = Roboflow(api_key=\"jz5RDy8NpSO3kiw0DiAP\")\n",
        "project = rf.workspace(\"srm-university-52jqz\").project(\"retail-shelf-avialability\")\n",
        "dataset = project.version(2).download(\"yolov5\")"
      ]
    },
    {
      "cell_type": "code",
      "execution_count": null,
      "metadata": {
        "id": "DGfZ9JUG4qWg"
      },
      "outputs": [],
      "source": [
        "!python /content/yolov5/train.py --data /content/yolov5/retail-shelf-avialability-2/data.yaml --cfg yolov5s.yaml --batch-size 8 --epochs 100 --name Model"
      ]
    },
    {
      "cell_type": "code",
      "execution_count": null,
      "metadata": {
        "id": "-H6bY6LmTvla"
      },
      "outputs": [],
      "source": [
        "# install dependencies as necessary\n",
        "!pip install -qr /content/yolov5/requirements.txt  # install dependencies (ignore errors)\n",
        "import torch\n",
        "from IPython.display import Image, clear_output  # to display images\n",
        "\n",
        "# clear_output()\n",
        "print('Setup complete. Using torch %s %s' % (torch.__version__, torch.cuda.get_device_properties(0) if torch.cuda.is_available() else 'CPU'))"
      ]
    },
    {
      "cell_type": "code",
      "execution_count": null,
      "metadata": {
        "id": "NHMtMqqZ7l4E"
      },
      "outputs": [],
      "source": [
        "# we can also output some older school graphs if the tensor board isn't working for whatever reason...\n",
        "import matplotlib as pyplot\n",
        "Image(filename='/content/yolov5/runs/train/Model/results.png', width=1000)  # view results.png"
      ]
    },
    {
      "cell_type": "code",
      "execution_count": null,
      "metadata": {
        "id": "DHPGeExi7l1j"
      },
      "outputs": [],
      "source": [
        "print(\"GROUND TRUTH TRAINING DATA:\")\n",
        "Image(filename='/content/yolov5/runs/train/Model/train_batch0.jpg', width=900)"
      ]
    },
    {
      "cell_type": "code",
      "execution_count": null,
      "metadata": {
        "id": "PU2KAexR7ly6"
      },
      "outputs": [],
      "source": [
        "print(\"GROUND TRUTH AUGMENTED TRAINING DATA:\")\n",
        "Image(filename='/content/yolov5/runs/train/Model/val_batch0_labels.jpg', width=900)"
      ]
    },
    {
      "cell_type": "code",
      "execution_count": null,
      "metadata": {
        "id": "emIbJ58z7lto"
      },
      "outputs": [],
      "source": [
        "%cd /content/yolov5/\n",
        "!python detect.py --weights /content/yolov5/runs/train/Model//weights/best.pt --img 416 --conf 0.4 --source /content/yolov5/retail-shelf-avialability-2/test/images --save-txt"
      ]
    },
    {
      "cell_type": "code",
      "execution_count": null,
      "metadata": {
        "id": "X95-qeg_7llS"
      },
      "outputs": [],
      "source": [
        "# !zip -r output.zip /content/yolov5/runs/detect/exp\n",
        "# This line of code can be used to zip the detected results"
      ]
    },
    {
      "cell_type": "code",
      "execution_count": 13,
      "metadata": {
        "id": "9Tx581tr1Cn-"
      },
      "outputs": [],
      "source": [
        "import numpy as np\n",
        "import pandas as pd\n",
        "import glob\n",
        "from glob import glob"
      ]
    },
    {
      "cell_type": "code",
      "execution_count": null,
      "metadata": {
        "id": "rHCJuU0i1O6u",
        "collapsed": true
      },
      "outputs": [],
      "source": [
        "all_file_path=glob('/content/yolov5/runs/detect/exp/labels/*')\n",
        "print(all_file_path)"
      ]
    },
    {
      "cell_type": "code",
      "execution_count": null,
      "metadata": {
        "id": "DcrPcTfD1Qm9"
      },
      "outputs": [],
      "source": [
        "data_list = []\n",
        "\n",
        "# List of column names\n",
        "columns = ['img_name', 'no_of_voids', 'area']\n",
        "\n",
        "# Create an empty DataFrame with specified columns\n",
        "df = pd.DataFrame(columns=columns)\n",
        "\n",
        "# Display the empty DataFrame\n",
        "print(df)\n",
        "\n",
        "for f in range(len(all_file_path)):\n",
        "    filepath = all_file_path[f]\n",
        "    with open(filepath, 'r') as file:\n",
        "            # Read the entire file as one space-separated string and split it into columns\n",
        "        lines = file.readlines()\n",
        "        ar=0\n",
        "        no_of_voids=len(lines)\n",
        "        for line in lines:\n",
        "          data=list(map(float,line.split()))\n",
        "          ar+=data[-1]*data[-2]\n",
        "        new_row_data = {'img_name': filepath, 'no_of_voids': no_of_voids, 'area': ar}\n",
        "        new_row_df = pd.DataFrame(new_row_data, index=[0])\n",
        "        # Concatenate the new row DataFrame with the original DataFrame\n",
        "        df = pd.concat([df, new_row_df], ignore_index=True)\n",
        "print(df)"
      ]
    },
    {
      "cell_type": "code",
      "execution_count": null,
      "metadata": {
        "id": "mvH_Bjf01S-N"
      },
      "outputs": [],
      "source": [
        "max_value = df['area'].max()\n",
        "print(max_value)"
      ]
    }
  ],
  "metadata": {
    "accelerator": "GPU",
    "colab": {
      "gpuType": "T4",
      "provenance": []
    },
    "kernelspec": {
      "display_name": "Python 3",
      "name": "python3"
    },
    "language_info": {
      "name": "python"
    }
  },
  "nbformat": 4,
  "nbformat_minor": 0
}